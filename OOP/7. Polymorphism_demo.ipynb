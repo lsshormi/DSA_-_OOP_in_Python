{
 "cells": [
  {
   "cell_type": "code",
   "execution_count": 1,
   "id": "7732164b",
   "metadata": {},
   "outputs": [
    {
     "name": "stdout",
     "output_type": "stream",
     "text": [
      "Inside phone constructor\n",
      "Buying a smartphone\n"
     ]
    }
   ],
   "source": [
    "# Method Overriding\n",
    "# last funtion call will override the previous one\n",
    "\n",
    "class Phone:\n",
    "    def __init__(self,price,brand,camera):\n",
    "        print(\"Inside phone constructor\")\n",
    "        self.__price = price\n",
    "        self.brand = brand\n",
    "        self.camera = camera\n",
    "    \n",
    "    def buy(self):\n",
    "        print(\"Buying a phone\")\n",
    "        \n",
    "class SmartPhone(Phone):\n",
    "    \n",
    "    def buy(self):\n",
    "        print(\"Buying a smartphone\")\n",
    "\n",
    "s = SmartPhone(20000, \"Apple\", 13)\n",
    "s.buy()"
   ]
  },
  {
   "cell_type": "code",
   "execution_count": 2,
   "id": "c192b45e",
   "metadata": {},
   "outputs": [
    {
     "name": "stdout",
     "output_type": "stream",
     "text": [
      "Circle 50.24\n",
      "Rect 20\n"
     ]
    }
   ],
   "source": [
    "# Method Overloading \n",
    "# function call will be depanding on the input\n",
    "\"\"\"\n",
    "though method overloading technically does not exist in python \n",
    "but still we can use method overload by declaring default arguement\n",
    "\"\"\" \n",
    "\n",
    "\n",
    "class Geometry:\n",
    "    def area(self,a,b=0):\n",
    "        if b==0:\n",
    "            print(\"Circle\",3.14*a*a)\n",
    "        else:\n",
    "            print(\"Rect\",a*b)\n",
    "            \n",
    "obj = Geometry()\n",
    "obj.area(4)\n",
    "obj.area(4,5)\n",
    "        "
   ]
  },
  {
   "cell_type": "code",
   "execution_count": 4,
   "id": "543782aa",
   "metadata": {},
   "outputs": [
    {
     "name": "stdout",
     "output_type": "stream",
     "text": [
      "3\n",
      "GeeksFor\n",
      "3\n",
      "GeeksFor\n",
      "3\n",
      "GeeksFor\n"
     ]
    }
   ],
   "source": [
    "# Operator Overloading\n",
    "\n",
    "\n",
    "class A:\n",
    "    def __init__(self, a):\n",
    "        self.a = a\n",
    "\n",
    "    # adding two objects \n",
    "    def __add__(self, o):\n",
    "        return self.a + o.a \n",
    "    \n",
    "ob1 = A(1)\n",
    "ob2 = A(2)\n",
    "ob3 = A(\"Geeks\")\n",
    "ob4 = A(\"For\")\n",
    "\n",
    "print(ob1 + ob2)\n",
    "print(ob3 + ob4)\n",
    "# Actual working when Binary Operator is used.\n",
    "print(A.__add__(ob1 , ob2)) \n",
    "print(A.__add__(ob3,ob4)) \n",
    "#And can also be Understand as :\n",
    "print(ob1.__add__(ob2))\n",
    "print(ob3.__add__(ob4))\n"
   ]
  },
  {
   "cell_type": "code",
   "execution_count": null,
   "id": "3da2d738",
   "metadata": {},
   "outputs": [],
   "source": []
  }
 ],
 "metadata": {
  "kernelspec": {
   "display_name": "Python 3 (ipykernel)",
   "language": "python",
   "name": "python3"
  },
  "language_info": {
   "codemirror_mode": {
    "name": "ipython",
    "version": 3
   },
   "file_extension": ".py",
   "mimetype": "text/x-python",
   "name": "python",
   "nbconvert_exporter": "python",
   "pygments_lexer": "ipython3",
   "version": "3.11.5"
  }
 },
 "nbformat": 4,
 "nbformat_minor": 5
}
