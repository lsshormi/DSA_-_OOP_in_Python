{
 "cells": [
  {
   "cell_type": "code",
   "execution_count": 8,
   "id": "da9f850a",
   "metadata": {},
   "outputs": [],
   "source": [
    "class Atm:\n",
    "    def __init__(self):\n",
    "\n",
    "        self.__pin = \"\"\n",
    "        self.__balance = 0\n",
    "\n",
    "        self.__menu()\n",
    "        \n",
    "    def get_pin(self):\n",
    "        return self.__pin\n",
    "    \n",
    "    def set_pin(self,new_pin):\n",
    "        if type(new_pin) == str:\n",
    "            self.__pin = new_pin\n",
    "            print(\"Pin changed\")\n",
    "        else:\n",
    "            print(\"Not allowed\")"
   ]
  },
  {
   "cell_type": "code",
   "execution_count": 9,
   "id": "c866c609",
   "metadata": {},
   "outputs": [],
   "source": [
    "    def __menu(self):\n",
    "            user_input = input(\"\"\"\n",
    "\n",
    "                        Hello, how would you like to proceed?\n",
    "                        1. Enter to create pin\n",
    "                        2. Enter 2 to deposit\n",
    "                        3. Enter 3 to withdraw\n",
    "                        4. Enter 4 to check balance\n",
    "                        5. Enter 5 to exit      \n",
    "\n",
    "    \"\"\")\n",
    "            if user_input == \"1\":\n",
    "                self.create_pin()\n",
    "            elif user_input == \"2\":\n",
    "                self.deposit()\n",
    "            elif user_input == \"3\":\n",
    "                self.withdraw()\n",
    "            elif user_input == \"4\":\n",
    "                self.check_balance()\n",
    "            else:\n",
    "                print(\"bye\")"
   ]
  },
  {
   "cell_type": "code",
   "execution_count": 3,
   "id": "d0e2c4ed",
   "metadata": {},
   "outputs": [],
   "source": [
    "     def create_pin(self):\n",
    "            self.__pin = input(\"Enter your pin: \")\n",
    "            print(\"Pin set successfully\")\n"
   ]
  },
  {
   "cell_type": "code",
   "execution_count": 10,
   "id": "1fd5182a",
   "metadata": {},
   "outputs": [],
   "source": [
    "     def deposit(self):\n",
    "            temp = input(\"Enter your pin: \")\n",
    "            if temp == self.__pin:\n",
    "                amount = int(input(\"Enter the amount: \"))\n",
    "                self.__balance = self.__balance + amount\n",
    "                print(\"Deposit successful\")\n",
    "            else:\n",
    "                print(\"Invalid Pin\")\n"
   ]
  },
  {
   "cell_type": "code",
   "execution_count": 11,
   "id": "94fa3131",
   "metadata": {},
   "outputs": [],
   "source": [
    "    def withdraw(self):\n",
    "            temp = input(\"Enter your pin: \")\n",
    "            if temp == self.__pin:\n",
    "                amount = int(input(\"Enter the amount: \"))\n",
    "                if amount < self.__balance:\n",
    "                    self.__balance -= amount\n",
    "                    print(\"Withdrawal Successful\")\n",
    "                else:\n",
    "                    print(\"Insufficient funds\")\n",
    "            else:\n",
    "                print(\"Invalid Pin\")\n",
    "     "
   ]
  },
  {
   "cell_type": "code",
   "execution_count": 12,
   "id": "fa1ff8d4",
   "metadata": {},
   "outputs": [],
   "source": [
    "    def check_balance(self):\n",
    "            temp = input(\"Enter your pin: \")\n",
    "            if temp == self.__pin:\n",
    "                print(self.__balance)\n",
    "            else:\n",
    "                print(\"invalid pin\")"
   ]
  },
  {
   "cell_type": "code",
   "execution_count": 13,
   "id": "9e9bdaa3",
   "metadata": {},
   "outputs": [
    {
     "ename": "AttributeError",
     "evalue": "'Atm' object has no attribute '_Atm__menu'",
     "output_type": "error",
     "traceback": [
      "\u001b[0;31m---------------------------------------------------------------------------\u001b[0m",
      "\u001b[0;31mAttributeError\u001b[0m                            Traceback (most recent call last)",
      "Cell \u001b[0;32mIn[13], line 2\u001b[0m\n\u001b[1;32m      1\u001b[0m \u001b[38;5;66;03m# Testing the class\u001b[39;00m\n\u001b[0;32m----> 2\u001b[0m sbi \u001b[38;5;241m=\u001b[39m Atm()\n",
      "Cell \u001b[0;32mIn[8], line 7\u001b[0m, in \u001b[0;36mAtm.__init__\u001b[0;34m(self)\u001b[0m\n\u001b[1;32m      4\u001b[0m \u001b[38;5;28mself\u001b[39m\u001b[38;5;241m.\u001b[39m__pin \u001b[38;5;241m=\u001b[39m \u001b[38;5;124m\"\u001b[39m\u001b[38;5;124m\"\u001b[39m\n\u001b[1;32m      5\u001b[0m \u001b[38;5;28mself\u001b[39m\u001b[38;5;241m.\u001b[39m__balance \u001b[38;5;241m=\u001b[39m \u001b[38;5;241m0\u001b[39m\n\u001b[0;32m----> 7\u001b[0m \u001b[38;5;28mself\u001b[39m\u001b[38;5;241m.\u001b[39m__menu()\n",
      "\u001b[0;31mAttributeError\u001b[0m: 'Atm' object has no attribute '_Atm__menu'"
     ]
    }
   ],
   "source": [
    "# Testing the class\n",
    "sbi = Atm()"
   ]
  },
  {
   "cell_type": "code",
   "execution_count": null,
   "id": "7773630c",
   "metadata": {},
   "outputs": [],
   "source": []
  }
 ],
 "metadata": {
  "kernelspec": {
   "display_name": "Python 3 (ipykernel)",
   "language": "python",
   "name": "python3"
  },
  "language_info": {
   "codemirror_mode": {
    "name": "ipython",
    "version": 3
   },
   "file_extension": ".py",
   "mimetype": "text/x-python",
   "name": "python",
   "nbconvert_exporter": "python",
   "pygments_lexer": "ipython3",
   "version": "3.11.5"
  }
 },
 "nbformat": 4,
 "nbformat_minor": 5
}
