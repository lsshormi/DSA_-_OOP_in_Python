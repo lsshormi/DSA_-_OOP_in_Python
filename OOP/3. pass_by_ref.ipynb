{
 "cells": [
  {
   "cell_type": "code",
   "execution_count": 11,
   "id": "6bbde718",
   "metadata": {},
   "outputs": [
    {
     "name": "stdout",
     "output_type": "stream",
     "text": [
      "Hello Ankita ma'am\n",
      "Nitish\n"
     ]
    }
   ],
   "source": [
    "class Customer:\n",
    "    def __init__(self,name,gender):\n",
    "        self.name = name\n",
    "        self.gender = gender\n",
    "        \n",
    "def greet(customer):\n",
    "    if customer.gender == 'Male':\n",
    "        print(\"Hello\",customer.name,'sir')\n",
    "    else:\n",
    "        print(\"Hello\",customer.name,\"ma'am\")\n",
    "        \n",
    "    cust2 = Customer(\"Nitish\",\"Male\")\n",
    "    return cust2\n",
    "    \n",
    "cust = Customer(\"Ankita\",\"Female\")\n",
    "\n",
    "new_cust = greet(cust)\n",
    "print(new_cust.name)"
   ]
  },
  {
   "cell_type": "code",
   "execution_count": 17,
   "id": "c66730fd",
   "metadata": {},
   "outputs": [
    {
     "name": "stdout",
     "output_type": "stream",
     "text": [
      "140119160985168\n",
      "140119160985168\n",
      "Nitish\n",
      "140119160985168\n",
      "Nitish\n"
     ]
    }
   ],
   "source": [
    "class Customer:\n",
    "    def __init__(self,name):\n",
    "        self.name = name\n",
    "        \n",
    "def greet(customer):\n",
    "    print(id(customer))\n",
    "    customer.name = \"Nitish\"\n",
    "    print(customer.name)\n",
    "    print(id(customer))\n",
    "    \n",
    "cust = Customer(\"Ankita\")\n",
    "print(id(cust))\n",
    "\n",
    "greet(cust)\n",
    "print(cust.name)"
   ]
  },
  {
   "cell_type": "code",
   "execution_count": 20,
   "id": "6d82194b",
   "metadata": {},
   "outputs": [
    {
     "name": "stdout",
     "output_type": "stream",
     "text": [
      "140119161064640\n",
      "[1, 2, 3, 4]\n",
      "140119160995456\n",
      "140119160995456\n",
      "[1, 2, 3, 4]\n"
     ]
    }
   ],
   "source": [
    "def change(L):\n",
    "    print(id(L))\n",
    "    L.append(5)\n",
    "    print(id(L))\n",
    "\n",
    "L1 = [1,2,3,4]\n",
    "print(id(L1))\n",
    "print(L1)\n",
    "    \n",
    "change(L1[:])\n",
    "    \n",
    "print(L1)"
   ]
  },
  {
   "cell_type": "code",
   "execution_count": 21,
   "id": "2fd5003a",
   "metadata": {},
   "outputs": [
    {
     "name": "stdout",
     "output_type": "stream",
     "text": [
      "140119161049536\n",
      "(1, 2, 3, 4)\n",
      "140119161049536\n",
      "140119160944864\n",
      "(1, 2, 3, 4)\n"
     ]
    }
   ],
   "source": [
    "def change(L):\n",
    "    print(id(L))\n",
    "    L = L + (5,6)\n",
    "    print(id(L))\n",
    "\n",
    "L1 = (1,2,3,4)\n",
    "print(id(L1))\n",
    "print(L1)\n",
    "    \n",
    "change(L1)\n",
    "    \n",
    "print(L1)"
   ]
  },
  {
   "cell_type": "code",
   "execution_count": 22,
   "id": "3908ca3c",
   "metadata": {},
   "outputs": [
    {
     "name": "stdout",
     "output_type": "stream",
     "text": [
      "I am Nitish and I am 34\n",
      "I am Ankit and I am 45\n",
      "I am Neha and I am 32\n"
     ]
    }
   ],
   "source": [
    "class Customer:\n",
    "    def __init__(self,name,age):\n",
    "        self.name = name\n",
    "        self.age = age\n",
    "        \n",
    "    def intro(self):\n",
    "        print(\"I am\",self.name,\"and I am\",self.age)\n",
    "        \n",
    "c1 = Customer(\"Nitish\",34)\n",
    "c2 = Customer(\"Ankit\",45)\n",
    "c3 = Customer(\"Neha\",32)\n",
    "\n",
    "L = [c1,c2,c3]\n",
    "\n",
    "for i in L:\n",
    "    i.intro()"
   ]
  },
  {
   "cell_type": "code",
   "execution_count": null,
   "id": "fd9764e7",
   "metadata": {},
   "outputs": [],
   "source": []
  }
 ],
 "metadata": {
  "kernelspec": {
   "display_name": "Python 3 (ipykernel)",
   "language": "python",
   "name": "python3"
  },
  "language_info": {
   "codemirror_mode": {
    "name": "ipython",
    "version": 3
   },
   "file_extension": ".py",
   "mimetype": "text/x-python",
   "name": "python",
   "nbconvert_exporter": "python",
   "pygments_lexer": "ipython3",
   "version": "3.11.5"
  }
 },
 "nbformat": 4,
 "nbformat_minor": 5
}
