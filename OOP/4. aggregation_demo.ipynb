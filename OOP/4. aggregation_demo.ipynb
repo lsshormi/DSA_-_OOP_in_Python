{
 "cells": [
  {
   "cell_type": "code",
   "execution_count": 2,
   "id": "40221724",
   "metadata": {},
   "outputs": [
    {
     "ename": "IndentationError",
     "evalue": "unindent does not match any outer indentation level (<tokenize>, line 24)",
     "output_type": "error",
     "traceback": [
      "\u001b[0;36m  File \u001b[0;32m<tokenize>:24\u001b[0;36m\u001b[0m\n\u001b[0;31m    add = Address(\"Dhaka\",1208,\"BD\")\u001b[0m\n\u001b[0m    ^\u001b[0m\n\u001b[0;31mIndentationError\u001b[0m\u001b[0;31m:\u001b[0m unindent does not match any outer indentation level\n"
     ]
    }
   ],
   "source": [
    "class Customer:\n",
    "    def __init__(self,name,gender,address):\n",
    "        self.name = name\n",
    "        self.gender = gender\n",
    "        self.address = address\n",
    "        \n",
    "    def edit_profile(self,new_name=self.name,new_city,new_pin,new_country):\n",
    "        self.name = new_name\n",
    "        self.address.change_address(new_city,new_pin,new_country)\n",
    "\n",
    "        \n",
    "class Address:\n",
    "    def __init__(self,city,pincode,country):\n",
    "        self.city = city\n",
    "        self.pincode = pincode\n",
    "        self.country = country\n",
    "        \n",
    "    def change_address(self,new_city,new_pin,new_country):\n",
    "        self.city = new_city\n",
    "        self.pincode = new_pin\n",
    "        self.country = new_country\n",
    "        \n",
    " \n",
    " add = Address(\"Dhaka\",1208,\"BD\")\n",
    "cust = Customer(\"Shormi\",\"Female\",add)\n",
    "cust.edit_profile(\"Alvi\",\"Berlin\",8025,\"Germany\")\n",
    "print(cust.address.pincode)\n",
    "    "
   ]
  },
  {
   "cell_type": "code",
   "execution_count": null,
   "id": "e9c6a095",
   "metadata": {},
   "outputs": [],
   "source": []
  },
  {
   "cell_type": "code",
   "execution_count": 3,
   "id": "c2f6c703",
   "metadata": {},
   "outputs": [
    {
     "name": "stdout",
     "output_type": "stream",
     "text": [
      "8025\n"
     ]
    }
   ],
   "source": [
    "class Customer:\n",
    "    def __init__(self, name, gender, address):\n",
    "        self.name = name\n",
    "        self.gender = gender\n",
    "        self.address = address\n",
    "        \n",
    "    def edit_profile(self, new_name=None, new_city=None, new_pin=None, new_country=None):\n",
    "        self.name = new_name if new_name is not None else self.name\n",
    "        self.address.change_address(new_city, new_pin, new_country)\n",
    "\n",
    "        \n",
    "class Address:\n",
    "    def __init__(self, city, pincode, country):\n",
    "        self.city = city\n",
    "        self.pincode = pincode\n",
    "        self.country = country\n",
    "        \n",
    "    def change_address(self, new_city, new_pin, new_country):\n",
    "        self.city = new_city if new_city is not None else self.city\n",
    "        self.pincode = new_pin if new_pin is not None else self.pincode\n",
    "        self.country = new_country if new_country is not None else self.country\n",
    "        \n",
    "# Creating instances\n",
    "add = Address(\"Dhaka\", 1208, \"BD\")\n",
    "cust = Customer(\"Shormi\", \"Female\", add)\n",
    "\n",
    "# Editing profile\n",
    "cust.edit_profile(new_name=\"Alvi\", new_city=\"Berlin\", new_pin=8025, new_country=\"Germany\")\n",
    "\n",
    "# Printing the updated pincode\n",
    "print(cust.address.pincode)\n"
   ]
  },
  {
   "cell_type": "code",
   "execution_count": null,
   "id": "a698c762",
   "metadata": {},
   "outputs": [],
   "source": []
  },
  {
   "cell_type": "code",
   "execution_count": 4,
   "id": "62b43e46",
   "metadata": {},
   "outputs": [
    {
     "name": "stdout",
     "output_type": "stream",
     "text": [
      "1208\n"
     ]
    }
   ],
   "source": [
    "class Customer:\n",
    "    def __init__(self, name, gender, address):\n",
    "        self.name = name\n",
    "        self.gender = gender\n",
    "        self.address = address\n",
    "\n",
    "    def edit_profile(self, new_name=None, new_city=None, new_pin=None, new_country=None):\n",
    "        if new_name is not None:\n",
    "            self.name = new_name\n",
    "        if new_city or new_pin or new_country:\n",
    "            self.address.change_address(new_city, new_pin, new_country)\n",
    "\n",
    "\n",
    "class Address:\n",
    "    def __init__(self, city, pincode, country):\n",
    "        self.city = city\n",
    "        self.pincode = pincode\n",
    "        self.country = country\n",
    "\n",
    "    def change_address(self, new_city, new_pin, new_country):\n",
    "        if new_city:\n",
    "            self.city = new_city\n",
    "        if new_pin:\n",
    "            self.pincode = new_pin\n",
    "        if new_country:\n",
    "            self.country = new_country\n",
    "\n",
    "\n",
    "add = Address(\"Dhaka\", 1208, \"BD\")\n",
    "cust = Customer(\"Shormi\", \"Female\", add)\n",
    "cust.edit_profile(new_city=\"Berlin\", new_country=\"Germany\")\n",
    "print(cust.address.pincode)\n"
   ]
  },
  {
   "cell_type": "code",
   "execution_count": null,
   "id": "ac29fff7",
   "metadata": {},
   "outputs": [],
   "source": []
  },
  {
   "cell_type": "code",
   "execution_count": 5,
   "id": "7f4e4079",
   "metadata": {},
   "outputs": [
    {
     "name": "stdout",
     "output_type": "stream",
     "text": [
      "8025\n"
     ]
    }
   ],
   "source": [
    "class Customer:\n",
    "    def __init__(self, name, gender, address):\n",
    "        self.name = name\n",
    "        self.gender = gender\n",
    "        self.address = address\n",
    "        \n",
    "    def edit_profile(self, new_name=None, new_city=None, new_pin=None, new_country=None):\n",
    "        self.name = new_name if new_name is not None else self.name\n",
    "        self.address.change_address(new_city, new_pin, new_country)\n",
    "\n",
    "        \n",
    "class Address:\n",
    "    def __init__(self, city, pincode, country):\n",
    "        self.city = city\n",
    "        self.pincode = pincode\n",
    "        self.country = country\n",
    "        \n",
    "    def change_address(self, new_city, new_pin, new_country):\n",
    "        self.city = new_city if new_city is not None else self.city\n",
    "        self.pincode = new_pin if new_pin is not None else self.pincode\n",
    "        self.country = new_country if new_country is not None else self.country\n",
    "        \n",
    " \n",
    "add = Address(\"Dhaka\", 1208, \"BD\")\n",
    "cust = Customer(\"Shormi\", \"Female\", add)\n",
    "cust.edit_profile(new_name=\"Berlin\", new_pin=8025, new_country=\"Germany\")\n",
    "print(cust.address.pincode)\n"
   ]
  },
  {
   "cell_type": "code",
   "execution_count": null,
   "id": "284af162",
   "metadata": {},
   "outputs": [],
   "source": []
  }
 ],
 "metadata": {
  "kernelspec": {
   "display_name": "Python 3 (ipykernel)",
   "language": "python",
   "name": "python3"
  },
  "language_info": {
   "codemirror_mode": {
    "name": "ipython",
    "version": 3
   },
   "file_extension": ".py",
   "mimetype": "text/x-python",
   "name": "python",
   "nbconvert_exporter": "python",
   "pygments_lexer": "ipython3",
   "version": "3.11.5"
  }
 },
 "nbformat": 4,
 "nbformat_minor": 5
}
